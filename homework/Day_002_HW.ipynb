{
 "cells": [
  {
   "cell_type": "markdown",
   "metadata": {},
   "source": [
    "## [作業目標]\n",
    "了解機器學習適合應用的領域與範疇。"
   ]
  },
  {
   "cell_type": "markdown",
   "metadata": {},
   "source": [
    "## [作業重點]\n",
    "透過瞭解機器學習的運作方式，找出非常適用機器學習應用的領域及其原因"
   ]
  },
  {
   "cell_type": "markdown",
   "metadata": {},
   "source": [
    "## 作業\n",
    "請找出一個你認為機器學習可以發光發熱的領域並闡述原因? "
   ]
  },
  {
   "cell_type": "code",
   "execution_count": null,
   "metadata": {},
   "outputs": [],
   "source": [
    "在細胞治療領域,透過幹細胞的培養及分化, 最後轉變成可用的成體細胞是目前熱門的領域\n",
    "但最困難的其實是精準的分化成為所需要的細胞(如皮膚,骨骼等)\n",
    "傳統上確定細胞分化, 主要還是透過表面蛋白或是基因表達的方式去確認細胞是否成為想要的目標, \n",
    "但困難點也在於,經過分析過後,被分析的細胞無法再被使用(因為加了藥劑標定)\n",
    "不但減少了可利用的細胞數量, 也相對耗費許多時間\n",
    "\n",
    "但細胞的分化的方向與細胞的外觀有很大的相關性, 透過細胞骨架的改變可能會影響細胞的型態,或甚至是基因改變,進而影響分化\n",
    "簡單來說, 如果能透過機器學習, 將細胞的型狀改變資料,與其分化時所啟動的基因相關聯,(如細長的細胞可能表現神經細胞的基因)\n",
    "就可透過簡單的觀察,來辨認是否幹細胞己朝向所需的細胞方向分化。 \n",
    "或者可以用高通量篩選的方式, 快速找出可能影響細胞型態的藥物等。\n",
    "\n",
    "另外 因為細胞分化也牽扯到多種基因間的協調, 透機器學習分析大規模基因陣列也有助於掌握細胞分化各時程所啟動的基因上下游關係\n",
    "\n",
    "\n",
    "                                                                    "
   ]
  }
 ],
 "metadata": {
  "kernelspec": {
   "display_name": "Python 3",
   "language": "python",
   "name": "python3"
  },
  "language_info": {
   "codemirror_mode": {
    "name": "ipython",
    "version": 3
   },
   "file_extension": ".py",
   "mimetype": "text/x-python",
   "name": "python",
   "nbconvert_exporter": "python",
   "pygments_lexer": "ipython3",
   "version": "3.7.4"
  }
 },
 "nbformat": 4,
 "nbformat_minor": 2
}
